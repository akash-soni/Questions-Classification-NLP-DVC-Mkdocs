{
 "cells": [
  {
   "cell_type": "code",
   "execution_count": 1,
   "metadata": {},
   "outputs": [],
   "source": [
    "import re\n",
    "s = \"This is NLP     example      \""
   ]
  },
  {
   "cell_type": "code",
   "execution_count": 2,
   "metadata": {},
   "outputs": [
    {
     "data": {
      "text/plain": [
       "'This is NLP     example'"
      ]
     },
     "execution_count": 2,
     "metadata": {},
     "output_type": "execute_result"
    }
   ],
   "source": [
    "s.strip()"
   ]
  },
  {
   "cell_type": "markdown",
   "metadata": {},
   "source": [
    "Observe that space from right has been stripped"
   ]
  },
  {
   "cell_type": "code",
   "execution_count": 3,
   "metadata": {},
   "outputs": [
    {
     "data": {
      "text/plain": [
       "'This is NLP example'"
      ]
     },
     "execution_count": 3,
     "metadata": {},
     "output_type": "execute_result"
    }
   ],
   "source": [
    "re.sub(r\"\\s+\", \" \", s).strip()"
   ]
  },
  {
   "cell_type": "markdown",
   "metadata": {},
   "source": [
    "if there is more than one space then we are stripping it"
   ]
  },
  {
   "cell_type": "code",
   "execution_count": 6,
   "metadata": {},
   "outputs": [
    {
     "name": "stdout",
     "output_type": "stream",
     "text": [
      "  <row Id=\"4186249\" PostTypeId=\"1\" AcceptedAnswerId=\"4186674\" CreationDate=\"2010-11-15T16:06:29.293\" Score=\"2\" ViewCount=\"1246\" Body=\"&lt;p&gt;While going through one of the problems in &lt;a href=&quot;http://www.pythonchallenge.com/&quot; rel=&quot;nofollow&quot;&gt;Python Challenge&lt;/a&gt;, I am trying to solve it as follows:&lt;/p&gt;&#xA;&#xA;&lt;p&gt;Read the input in a text file with characters as follows:&lt;/p&gt;&#xA;&#xA;&lt;pre&gt;&lt;code&gt;DQheAbsaMLjTmAOKmNsLziVMenFxQdATQIjItwtyCHyeMwQTNxbbLXWZnGmDqHhXnLHfEyvzxMhSXzd&#xA;BEBaxeaPgQPttvqRvxHPEOUtIsttPDeeuGFgmDkKQcEYjuSuiGROGfYpzkQgvcCDBKrcYwHFlvPzDMEk&#xA;MyuPxvGtgSvWgrybKOnbEGhqHUXHhnyjFwSfTfaiWtAOMBZEScsOSumwPssjCPlLbLsPIGffDLpZzMKz&#xA;jarrjufhgxdrzywWosrblPRasvRUpZLaUbtDHGZQtvZOvHeVSTBHpitDllUljVvWrwvhpnVzeWVYhMPs&#xA;kMVcdeHzFZxTWocGvaKhhcnozRSbWsIEhpeNfJaRjLwWCvKfTLhuVsJczIYFPCyrOJxOPkXhVuCqCUgE&#xA;luwLBCmqPwDvUPuBRrJZhfEXHXSBvljqJVVfEGRUWRSHPeKUJCpMpIsrV.......&#xA;&lt;/code&gt;&lt;/pre&gt;&#xA;&#xA;&lt;p&gt;What I need is to go through this text file and pick all lower case letters that are enclosed by only three upper-case letters on each side.&lt;/p&gt;&#xA;&#xA;&lt;p&gt;The python script that I wrote to do the above is as follows:&lt;/p&gt;&#xA;&#xA;&lt;pre&gt;&lt;code&gt;import re&#xA;&#xA;pattern = re.compile(&quot;[a-z][A-Z]{3}([a-z])[A-Z]{3}[a-z]&quot;)&#xA;f = open('/Users/Dev/Sometext.txt','r')&#xA;for line in f:&#xA;    result = pattern.search(line)&#xA;    if result:&#xA;       print result.groups()&#xA;&#xA; f.close()&#xA;&lt;/code&gt;&lt;/pre&gt;&#xA;&#xA;&lt;p&gt;The above given script, instead of returning the capture(list of lower case characters), returns all the text blocks that meets the regular expression criteria, like&lt;/p&gt;&#xA;&#xA;&lt;pre&gt;&lt;code&gt;aXCSdFGHj&#xA;vCDFeTYHa&#xA;nHJUiKJHo&#xA;.........&#xA;.........&#xA;&lt;/code&gt;&lt;/pre&gt;&#xA;&#xA;&lt;p&gt;Can somebody tell me what exactly I am doing wrong here? And instead of looping through the entire file, is there an alternate way to run the regular expression search on the entire file?&lt;/p&gt;&#xA;&#xA;&lt;p&gt;Thanks&lt;/p&gt;&#xA;\" OwnerUserId=\"207072\" LastEditorUserId=\"207072\" LastEditDate=\"2010-11-15T16:26:04.447\" LastActivityDate=\"2010-11-15T17:08:56.730\" Title=\"Searching and capturing a character using regular expressions Python\" Tags=\"&lt;python&gt;&lt;regex&gt;&lt;search&gt;&lt;text-files&gt;\" AnswerCount=\"3\" CommentCount=\"0\" />\n",
      "\n"
     ]
    }
   ],
   "source": [
    "import xml.etree.ElementTree as ET\n",
    "with open(\"../data/data.xml\", encoding=\"utf-8\") as f:\n",
    "    for line in f:\n",
    "        print(line)\n",
    "        break"
   ]
  },
  {
   "cell_type": "code",
   "execution_count": 7,
   "metadata": {},
   "outputs": [
    {
     "data": {
      "text/plain": [
       "'<python><regex><search><text-files>'"
      ]
     },
     "execution_count": 7,
     "metadata": {},
     "output_type": "execute_result"
    }
   ],
   "source": [
    "# get all the tags\n",
    "import xml.etree.ElementTree as ET\n",
    "attr = ET.fromstring(line).attrib ## getting the tags\n",
    "attr.get('Title', \"\")\n",
    "\n",
    "attr.get('Tags', \"\")"
   ]
  },
  {
   "cell_type": "markdown",
   "metadata": {},
   "source": [
    "here we are reading first data line"
   ]
  }
 ],
 "metadata": {
  "kernelspec": {
   "display_name": "Python 3.9.7 64-bit",
   "language": "python",
   "name": "python3"
  },
  "language_info": {
   "codemirror_mode": {
    "name": "ipython",
    "version": 3
   },
   "file_extension": ".py",
   "mimetype": "text/x-python",
   "name": "python",
   "nbconvert_exporter": "python",
   "pygments_lexer": "ipython3",
   "version": "3.9.7"
  },
  "orig_nbformat": 4,
  "vscode": {
   "interpreter": {
    "hash": "e8fa7c5eea6aef1dd2bcbea183a01e8bf5205008d6ef186c9d4aecab7e2c1f2d"
   }
  }
 },
 "nbformat": 4,
 "nbformat_minor": 2
}
